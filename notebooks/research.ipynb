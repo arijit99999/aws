{
 "cells": [
  {
   "cell_type": "code",
   "execution_count": 1,
   "metadata": {},
   "outputs": [],
   "source": [
    "import pandas as pd"
   ]
  },
  {
   "cell_type": "code",
   "execution_count": 2,
   "metadata": {},
   "outputs": [],
   "source": [
    "import warnings"
   ]
  },
  {
   "cell_type": "code",
   "execution_count": 3,
   "metadata": {},
   "outputs": [],
   "source": [
    "warnings.filterwarnings('ignore')"
   ]
  },
  {
   "cell_type": "code",
   "execution_count": 4,
   "metadata": {},
   "outputs": [],
   "source": [
    "\n",
    "data=pd.read_csv(r'C:\\Users\\deyar\\OneDrive\\Desktop\\Flight_Ticket_Price_Prediction\\notebooks\\data\\flight.csv')"
   ]
  },
  {
   "cell_type": "code",
   "execution_count": 5,
   "metadata": {},
   "outputs": [],
   "source": [
    "cat=[]\n",
    "num=[]\n",
    "for i in data.columns:\n",
    "    if data[i].dtype=='object':\n",
    "        cat.append(i)\n",
    "    else:\n",
    "        num.append(i)"
   ]
  },
  {
   "cell_type": "code",
   "execution_count": 6,
   "metadata": {},
   "outputs": [],
   "source": [
    "data_cat=data[cat]"
   ]
  },
  {
   "cell_type": "code",
   "execution_count": 7,
   "metadata": {},
   "outputs": [],
   "source": [
    "data_num=data[num]"
   ]
  },
  {
   "cell_type": "code",
   "execution_count": 8,
   "metadata": {},
   "outputs": [
    {
     "name": "stdout",
     "output_type": "stream",
     "text": [
      "airline = ['SpiceJet' 'AirAsia' 'Vistara' 'GO_FIRST' 'Indigo' 'Air_India']\n",
      "flight = ['SG-8709' 'SG-8157' 'I5-764' ... '6E-7127' '6E-7259' 'AI-433']\n",
      "source_city = ['Delhi' 'Mumbai' 'Bangalore' 'Kolkata' 'Hyderabad' 'Chennai']\n",
      "departure_time = ['Evening' 'Early_Morning' 'Morning' 'Afternoon' 'Night' 'Late_Night']\n",
      "stops = ['zero' 'one' 'two_or_more']\n",
      "arrival_time = ['Night' 'Morning' 'Early_Morning' 'Afternoon' 'Evening' 'Late_Night']\n",
      "destination_city = ['Mumbai' 'Bangalore' 'Kolkata' 'Hyderabad' 'Chennai' 'Delhi']\n",
      "class = ['Economy' 'Business']\n"
     ]
    }
   ],
   "source": [
    "for i in data_cat.columns:\n",
    "    x=pd.unique(data_cat[i])\n",
    "    print(i,\"=\",x)"
   ]
  },
  {
   "cell_type": "code",
   "execution_count": 9,
   "metadata": {},
   "outputs": [],
   "source": [
    "for  j in data_cat.columns:\n",
    "    data_cat[j]=data_cat[j].astype('category').cat.codes"
   ]
  },
  {
   "cell_type": "code",
   "execution_count": 10,
   "metadata": {},
   "outputs": [],
   "source": [
    "data=pd.concat([data_cat,data_num],axis=1)"
   ]
  },
  {
   "cell_type": "code",
   "execution_count": 11,
   "metadata": {},
   "outputs": [],
   "source": [
    "y=data.iloc[:,-1:]"
   ]
  },
  {
   "cell_type": "code",
   "execution_count": 12,
   "metadata": {},
   "outputs": [],
   "source": [
    "x=data.iloc[:,:-1]"
   ]
  },
  {
   "cell_type": "code",
   "execution_count": 13,
   "metadata": {},
   "outputs": [],
   "source": [
    "from sklearn.preprocessing import StandardScaler"
   ]
  },
  {
   "cell_type": "code",
   "execution_count": 14,
   "metadata": {},
   "outputs": [],
   "source": [
    "from sklearn.model_selection import train_test_split,cross_val_score"
   ]
  },
  {
   "cell_type": "code",
   "execution_count": 15,
   "metadata": {},
   "outputs": [],
   "source": [
    "from sklearn.linear_model import ElasticNet"
   ]
  },
  {
   "cell_type": "code",
   "execution_count": 16,
   "metadata": {},
   "outputs": [],
   "source": [
    "import optuna"
   ]
  },
  {
   "cell_type": "code",
   "execution_count": 17,
   "metadata": {},
   "outputs": [],
   "source": [
    "s=StandardScaler()"
   ]
  },
  {
   "cell_type": "code",
   "execution_count": 18,
   "metadata": {},
   "outputs": [],
   "source": [
    "x_scaled=s.fit_transform(x)"
   ]
  },
  {
   "cell_type": "code",
   "execution_count": 19,
   "metadata": {},
   "outputs": [],
   "source": [
    "x_scaled=pd.DataFrame(x_scaled,columns=x.columns)"
   ]
  },
  {
   "cell_type": "code",
   "execution_count": 20,
   "metadata": {},
   "outputs": [],
   "source": [
    "x_train,x_test,y_train,y_test=train_test_split(x_scaled,y,test_size=.2,random_state=12)"
   ]
  },
  {
   "cell_type": "code",
   "execution_count": 21,
   "metadata": {},
   "outputs": [],
   "source": [
    "from sklearn.metrics import r2_score"
   ]
  },
  {
   "cell_type": "code",
   "execution_count": 22,
   "metadata": {},
   "outputs": [],
   "source": [
    "def objective(trial):\n",
    "    alpha=trial.suggest_float('alpha',.1,10,log=True)\n",
    "    l1_ratio=trial.suggest_float('l1_ratio',.1,1,log=True)\n",
    "    max_iter=trial.suggest_int('max_iter',1000,10000)\n",
    "    model=ElasticNet(alpha=alpha,\n",
    "    l1_ratio=l1_ratio,\n",
    "    max_iter=max_iter\n",
    "    )\n",
    "    model.fit(x_train,y_train)\n",
    "    p=model.predict(x_test)\n",
    "    v=r2_score(y_test,p)\n",
    "    return v"
   ]
  },
  {
   "cell_type": "code",
   "execution_count": 23,
   "metadata": {},
   "outputs": [
    {
     "name": "stderr",
     "output_type": "stream",
     "text": [
      "[I 2025-03-26 13:44:07,786] A new study created in memory with name: no-name-36b8fb2a-3c8e-417c-b27a-32e5a679b10c\n"
     ]
    }
   ],
   "source": [
    "study=optuna.create_study(direction='maximize')"
   ]
  },
  {
   "cell_type": "code",
   "execution_count": 24,
   "metadata": {},
   "outputs": [
    {
     "name": "stderr",
     "output_type": "stream",
     "text": [
      "[I 2025-03-26 13:44:08,468] Trial 0 finished with value: 0.8358950711294282 and parameters: {'alpha': 0.5283389147612767, 'l1_ratio': 0.14293321941493015, 'max_iter': 1497}. Best is trial 0 with value: 0.8358950711294282.\n",
      "[I 2025-03-26 13:44:08,539] Trial 1 finished with value: 0.8433033730113133 and parameters: {'alpha': 0.9468390826351726, 'l1_ratio': 0.5709556931374198, 'max_iter': 6184}. Best is trial 1 with value: 0.8433033730113133.\n",
      "[I 2025-03-26 13:44:08,637] Trial 2 finished with value: 0.8879932242634448 and parameters: {'alpha': 0.2572728784052659, 'l1_ratio': 0.4780836472941477, 'max_iter': 3465}. Best is trial 2 with value: 0.8879932242634448.\n",
      "[I 2025-03-26 13:44:08,709] Trial 3 finished with value: 0.8537385245554243 and parameters: {'alpha': 0.40656709464824253, 'l1_ratio': 0.1602166118531678, 'max_iter': 5989}. Best is trial 2 with value: 0.8879932242634448.\n",
      "[I 2025-03-26 13:44:08,809] Trial 4 finished with value: 0.8856194559774613 and parameters: {'alpha': 0.17826847120218017, 'l1_ratio': 0.16657322391661092, 'max_iter': 8160}. Best is trial 2 with value: 0.8879932242634448.\n",
      "[I 2025-03-26 13:44:08,869] Trial 5 finished with value: 0.7263423153330146 and parameters: {'alpha': 1.3401943276384887, 'l1_ratio': 0.1074801480364298, 'max_iter': 5212}. Best is trial 2 with value: 0.8879932242634448.\n",
      "[I 2025-03-26 13:44:08,929] Trial 6 finished with value: 0.7977515460036415 and parameters: {'alpha': 0.8504686719633011, 'l1_ratio': 0.1781922736523245, 'max_iter': 7946}. Best is trial 2 with value: 0.8879932242634448.\n",
      "[I 2025-03-26 13:44:09,008] Trial 7 finished with value: 0.8540496917654526 and parameters: {'alpha': 0.5424774798972429, 'l1_ratio': 0.3741695936585477, 'max_iter': 4403}. Best is trial 2 with value: 0.8879932242634448.\n",
      "[I 2025-03-26 13:44:09,061] Trial 8 finished with value: 0.6346267042576259 and parameters: {'alpha': 2.409121340977856, 'l1_ratio': 0.19132429701163103, 'max_iter': 1140}. Best is trial 2 with value: 0.8879932242634448.\n",
      "[I 2025-03-26 13:44:09,128] Trial 9 finished with value: 0.891182176917465 and parameters: {'alpha': 2.828862273616452, 'l1_ratio': 0.9594172929511193, 'max_iter': 5205}. Best is trial 9 with value: 0.891182176917465.\n",
      "[I 2025-03-26 13:44:09,214] Trial 10 finished with value: 0.8041345303144429 and parameters: {'alpha': 9.456322001407194, 'l1_ratio': 0.930637972023654, 'max_iter': 9185}. Best is trial 9 with value: 0.891182176917465.\n",
      "[I 2025-03-26 13:44:09,292] Trial 11 finished with value: 0.8906749321191677 and parameters: {'alpha': 4.567938754941916, 'l1_ratio': 0.9741929303643311, 'max_iter': 3305}. Best is trial 9 with value: 0.891182176917465.\n",
      "[I 2025-03-26 13:44:09,374] Trial 12 finished with value: 0.8966380318366169 and parameters: {'alpha': 5.793063138056113, 'l1_ratio': 0.9861561403904062, 'max_iter': 3100}. Best is trial 12 with value: 0.8966380318366169.\n",
      "[I 2025-03-26 13:44:09,432] Trial 13 finished with value: 0.706095412937933 and parameters: {'alpha': 4.138667366938393, 'l1_ratio': 0.6741703205296407, 'max_iter': 2922}. Best is trial 12 with value: 0.8966380318366169.\n",
      "[I 2025-03-26 13:44:09,499] Trial 14 finished with value: 0.5584564652639772 and parameters: {'alpha': 9.893974737408616, 'l1_ratio': 0.7243980910522112, 'max_iter': 4601}. Best is trial 12 with value: 0.8966380318366169.\n",
      "[I 2025-03-26 13:44:09,562] Trial 15 finished with value: 0.655712033132304 and parameters: {'alpha': 2.4913073940450388, 'l1_ratio': 0.2934334274011786, 'max_iter': 6555}. Best is trial 12 with value: 0.8966380318366169.\n",
      "[I 2025-03-26 13:44:09,611] Trial 16 finished with value: 0.5369436851509666 and parameters: {'alpha': 4.445245637340795, 'l1_ratio': 0.32845989869191355, 'max_iter': 2390}. Best is trial 12 with value: 0.8966380318366169.\n",
      "[I 2025-03-26 13:44:09,690] Trial 17 finished with value: 0.8381195569080968 and parameters: {'alpha': 1.9229403156320113, 'l1_ratio': 0.7718702601369325, 'max_iter': 4287}. Best is trial 12 with value: 0.8966380318366169.\n",
      "[I 2025-03-26 13:44:09,743] Trial 18 finished with value: 0.5071460014039162 and parameters: {'alpha': 6.353839809350834, 'l1_ratio': 0.46907631678430867, 'max_iter': 7323}. Best is trial 12 with value: 0.8966380318366169.\n",
      "[I 2025-03-26 13:44:09,837] Trial 19 finished with value: 0.8951208622910968 and parameters: {'alpha': 3.3579322889772856, 'l1_ratio': 0.9731646891949048, 'max_iter': 2484}. Best is trial 12 with value: 0.8966380318366169.\n",
      "[I 2025-03-26 13:44:09,894] Trial 20 finished with value: 0.723855846591368 and parameters: {'alpha': 1.6331772616325642, 'l1_ratio': 0.2563319610272671, 'max_iter': 1855}. Best is trial 12 with value: 0.8966380318366169.\n",
      "[I 2025-03-26 13:44:09,985] Trial 21 finished with value: 0.9031987409250636 and parameters: {'alpha': 3.3304507556683403, 'l1_ratio': 0.9913323424060045, 'max_iter': 3694}. Best is trial 21 with value: 0.9031987409250636.\n",
      "[I 2025-03-26 13:44:10,050] Trial 22 finished with value: 0.7201901362866094 and parameters: {'alpha': 6.173161445451194, 'l1_ratio': 0.7989595895401549, 'max_iter': 2274}. Best is trial 21 with value: 0.9031987409250636.\n",
      "[I 2025-03-26 13:44:10,114] Trial 23 finished with value: 0.7104584806771804 and parameters: {'alpha': 3.2169225310931533, 'l1_ratio': 0.5911619809576664, 'max_iter': 3789}. Best is trial 21 with value: 0.9031987409250636.\n",
      "[I 2025-03-26 13:44:10,175] Trial 24 finished with value: 0.7224490000230339 and parameters: {'alpha': 6.993732301572995, 'l1_ratio': 0.8249816433703884, 'max_iter': 2754}. Best is trial 21 with value: 0.9031987409250636.\n",
      "[I 2025-03-26 13:44:10,244] Trial 25 finished with value: 0.6942166188802269 and parameters: {'alpha': 3.5905453715766997, 'l1_ratio': 0.5985666929031892, 'max_iter': 3719}. Best is trial 21 with value: 0.9031987409250636.\n",
      "[I 2025-03-26 13:44:10,309] Trial 26 finished with value: 0.8095871423049634 and parameters: {'alpha': 1.2792262836187087, 'l1_ratio': 0.5142997563286894, 'max_iter': 1659}. Best is trial 21 with value: 0.9031987409250636.\n",
      "[I 2025-03-26 13:44:10,382] Trial 27 finished with value: 0.6478454835330429 and parameters: {'alpha': 5.410600813830964, 'l1_ratio': 0.6620562953112435, 'max_iter': 2878}. Best is trial 21 with value: 0.9031987409250636.\n",
      "[I 2025-03-26 13:44:10,442] Trial 28 finished with value: 0.7051704523772725 and parameters: {'alpha': 2.303646240379625, 'l1_ratio': 0.4113692733998302, 'max_iter': 2194}. Best is trial 21 with value: 0.9031987409250636.\n",
      "[I 2025-03-26 13:44:10,540] Trial 29 finished with value: 0.8702924288435248 and parameters: {'alpha': 1.6968351181735368, 'l1_ratio': 0.858336903601586, 'max_iter': 1103}. Best is trial 21 with value: 0.9031987409250636.\n",
      "[I 2025-03-26 13:44:10,655] Trial 30 finished with value: 0.9030785338338337 and parameters: {'alpha': 0.10239622648180892, 'l1_ratio': 0.705484853012939, 'max_iter': 4699}. Best is trial 21 with value: 0.9031987409250636.\n",
      "[I 2025-03-26 13:44:10,763] Trial 31 finished with value: 0.9042567979721964 and parameters: {'alpha': 0.10650323020971812, 'l1_ratio': 0.8640497244031671, 'max_iter': 4790}. Best is trial 31 with value: 0.9042567979721964.\n",
      "[I 2025-03-26 13:44:10,868] Trial 32 finished with value: 0.9016670968553212 and parameters: {'alpha': 0.14661962027064238, 'l1_ratio': 0.7036845290789797, 'max_iter': 4531}. Best is trial 31 with value: 0.9042567979721964.\n",
      "[I 2025-03-26 13:44:10,977] Trial 33 finished with value: 0.902948179154933 and parameters: {'alpha': 0.10669511885869114, 'l1_ratio': 0.7045421809350418, 'max_iter': 5643}. Best is trial 31 with value: 0.9042567979721964.\n",
      "[I 2025-03-26 13:44:11,084] Trial 34 finished with value: 0.9008861176274453 and parameters: {'alpha': 0.11354918451913888, 'l1_ratio': 0.5607543132326708, 'max_iter': 5755}. Best is trial 31 with value: 0.9042567979721964.\n",
      "[I 2025-03-26 13:44:11,187] Trial 35 finished with value: 0.8954828334012794 and parameters: {'alpha': 0.24240114292954848, 'l1_ratio': 0.6377483726842738, 'max_iter': 6729}. Best is trial 31 with value: 0.9042567979721964.\n",
      "[I 2025-03-26 13:44:11,298] Trial 36 finished with value: 0.8983788790878897 and parameters: {'alpha': 0.12430585930532656, 'l1_ratio': 0.44956662208009657, 'max_iter': 5135}. Best is trial 31 with value: 0.9042567979721964.\n",
      "[I 2025-03-26 13:44:11,399] Trial 37 finished with value: 0.9020223181486962 and parameters: {'alpha': 0.21105577458271368, 'l1_ratio': 0.8088149036113966, 'max_iter': 6259}. Best is trial 31 with value: 0.9042567979721964.\n",
      "[I 2025-03-26 13:44:11,496] Trial 38 finished with value: 0.8827242755916863 and parameters: {'alpha': 0.352487912669404, 'l1_ratio': 0.5293019536646842, 'max_iter': 5570}. Best is trial 31 with value: 0.9042567979721964.\n",
      "[I 2025-03-26 13:44:11,599] Trial 39 finished with value: 0.8892702227047484 and parameters: {'alpha': 0.16205759281284418, 'l1_ratio': 0.21918509956067567, 'max_iter': 4045}. Best is trial 31 with value: 0.9042567979721964.\n",
      "[I 2025-03-26 13:44:11,709] Trial 40 finished with value: 0.9041601718339136 and parameters: {'alpha': 0.10046985014925758, 'l1_ratio': 0.8387428783206446, 'max_iter': 4910}. Best is trial 31 with value: 0.9042567979721964.\n",
      "[I 2025-03-26 13:44:11,816] Trial 41 finished with value: 0.9043160489956359 and parameters: {'alpha': 0.10504792392031204, 'l1_ratio': 0.8731097239996145, 'max_iter': 4883}. Best is trial 41 with value: 0.9043160489956359.\n",
      "[I 2025-03-26 13:44:11,916] Trial 42 finished with value: 0.9019366624042141 and parameters: {'alpha': 0.3303625252235288, 'l1_ratio': 0.8755646982720552, 'max_iter': 4991}. Best is trial 41 with value: 0.9043160489956359.\n",
      "[I 2025-03-26 13:44:12,007] Trial 43 finished with value: 0.8882542650076445 and parameters: {'alpha': 0.5637231222193033, 'l1_ratio': 0.7646181320536581, 'max_iter': 4728}. Best is trial 41 with value: 0.9043160489956359.\n",
      "[I 2025-03-26 13:44:12,113] Trial 44 finished with value: 0.9041334556161078 and parameters: {'alpha': 0.13813248919384824, 'l1_ratio': 0.8794582168752627, 'max_iter': 4033}. Best is trial 41 with value: 0.9043160489956359.\n",
      "[I 2025-03-26 13:44:12,207] Trial 45 finished with value: 0.904302268946295 and parameters: {'alpha': 0.13742312456182307, 'l1_ratio': 0.900999472335184, 'max_iter': 3604}. Best is trial 41 with value: 0.9043160489956359.\n",
      "[I 2025-03-26 13:44:12,326] Trial 46 finished with value: 0.8903403708091908 and parameters: {'alpha': 0.1362735689437964, 'l1_ratio': 0.11931814021154437, 'max_iter': 4118}. Best is trial 41 with value: 0.9043160489956359.\n",
      "[I 2025-03-26 13:44:12,424] Trial 47 finished with value: 0.9037379004393384 and parameters: {'alpha': 0.18883789771013101, 'l1_ratio': 0.8811852274944618, 'max_iter': 3360}. Best is trial 41 with value: 0.9043160489956359.\n",
      "[I 2025-03-26 13:44:12,529] Trial 48 finished with value: 0.9030008875748585 and parameters: {'alpha': 0.27936958023083774, 'l1_ratio': 0.8891221739171619, 'max_iter': 6133}. Best is trial 41 with value: 0.9043160489956359.\n",
      "[I 2025-03-26 13:44:12,643] Trial 49 finished with value: 0.8991486426449572 and parameters: {'alpha': 0.1718029807393934, 'l1_ratio': 0.6334730046602011, 'max_iter': 9602}. Best is trial 41 with value: 0.9043160489956359.\n",
      "[I 2025-03-26 13:44:12,747] Trial 50 finished with value: 0.9006222941949454 and parameters: {'alpha': 0.20755568714257067, 'l1_ratio': 0.7496763373583751, 'max_iter': 5343}. Best is trial 41 with value: 0.9043160489956359.\n",
      "[I 2025-03-26 13:44:12,845] Trial 51 finished with value: 0.9042419928404536 and parameters: {'alpha': 0.14192905892669863, 'l1_ratio': 0.8960423289222068, 'max_iter': 3324}. Best is trial 41 with value: 0.9043160489956359.\n",
      "[I 2025-03-26 13:44:12,957] Trial 52 finished with value: 0.9039773419504128 and parameters: {'alpha': 0.13570978722477703, 'l1_ratio': 0.8592541019670421, 'max_iter': 3363}. Best is trial 41 with value: 0.9043160489956359.\n",
      "[I 2025-03-26 13:44:13,062] Trial 53 finished with value: 0.9044944707818197 and parameters: {'alpha': 0.10171879756066757, 'l1_ratio': 0.9102708939801419, 'max_iter': 4010}. Best is trial 53 with value: 0.9044944707818197.\n",
      "[I 2025-03-26 13:44:13,177] Trial 54 finished with value: 0.904645931385028 and parameters: {'alpha': 0.10018039680041622, 'l1_ratio': 0.9924529461113711, 'max_iter': 4829}. Best is trial 54 with value: 0.904645931385028.\n",
      "[I 2025-03-26 13:44:13,292] Trial 55 finished with value: 0.9046451396494914 and parameters: {'alpha': 0.16143270108990573, 'l1_ratio': 0.9987414469837212, 'max_iter': 4249}. Best is trial 54 with value: 0.904645931385028.\n",
      "[I 2025-03-26 13:44:13,388] Trial 56 finished with value: 0.9046387930685748 and parameters: {'alpha': 0.7067571037174257, 'l1_ratio': 0.996366012500788, 'max_iter': 4188}. Best is trial 54 with value: 0.904645931385028.\n",
      "[I 2025-03-26 13:44:13,479] Trial 57 finished with value: 0.9041123103778688 and parameters: {'alpha': 0.7730589146795223, 'l1_ratio': 0.9780066299188948, 'max_iter': 4428}. Best is trial 54 with value: 0.904645931385028.\n",
      "[I 2025-03-26 13:44:13,575] Trial 58 finished with value: 0.891909122368275 and parameters: {'alpha': 0.47013177643424736, 'l1_ratio': 0.7652506924859894, 'max_iter': 3752}. Best is trial 54 with value: 0.904645931385028.\n",
      "[I 2025-03-26 13:44:13,675] Trial 59 finished with value: 0.904638366007261 and parameters: {'alpha': 0.22971451201790694, 'l1_ratio': 0.9886683546230859, 'max_iter': 4303}. Best is trial 54 with value: 0.904645931385028.\n",
      "[I 2025-03-26 13:44:13,781] Trial 60 finished with value: 0.9046372388991377 and parameters: {'alpha': 0.23273232057884147, 'l1_ratio': 0.988253095791972, 'max_iter': 4226}. Best is trial 54 with value: 0.904645931385028.\n",
      "[I 2025-03-26 13:44:13,876] Trial 61 finished with value: 0.9044256510042463 and parameters: {'alpha': 0.2716046867386516, 'l1_ratio': 0.9597627097642351, 'max_iter': 4247}. Best is trial 54 with value: 0.904645931385028.\n",
      "[I 2025-03-26 13:44:13,978] Trial 62 finished with value: 0.9046340437782038 and parameters: {'alpha': 0.28299069168024804, 'l1_ratio': 0.9891645937723871, 'max_iter': 4256}. Best is trial 54 with value: 0.904645931385028.\n",
      "[I 2025-03-26 13:44:14,072] Trial 63 finished with value: 0.904135053474292 and parameters: {'alpha': 0.6688610562553925, 'l1_ratio': 0.9751407281656493, 'max_iter': 3959}. Best is trial 54 with value: 0.904645931385028.\n",
      "[I 2025-03-26 13:44:14,176] Trial 64 finished with value: 0.9046458448988622 and parameters: {'alpha': 0.23873499914964316, 'l1_ratio': 0.995654645375086, 'max_iter': 4351}. Best is trial 54 with value: 0.904645931385028.\n",
      "[I 2025-03-26 13:44:14,272] Trial 65 finished with value: 0.9046168570944272 and parameters: {'alpha': 0.386159157301662, 'l1_ratio': 0.9886874208704629, 'max_iter': 4476}. Best is trial 54 with value: 0.904645931385028.\n",
      "[I 2025-03-26 13:44:14,377] Trial 66 finished with value: 0.9011055135542223 and parameters: {'alpha': 0.23385639953364554, 'l1_ratio': 0.7942603083404085, 'max_iter': 5344}. Best is trial 54 with value: 0.904645931385028.\n",
      "[I 2025-03-26 13:44:14,489] Trial 67 finished with value: 0.9046391977086329 and parameters: {'alpha': 0.27961999077350613, 'l1_ratio': 0.991050707985382, 'max_iter': 4325}. Best is trial 54 with value: 0.904645931385028.\n",
      "[I 2025-03-26 13:44:14,559] Trial 68 finished with value: 0.7484719198114527 and parameters: {'alpha': 1.2123394698193393, 'l1_ratio': 0.14564522397902296, 'max_iter': 3035}. Best is trial 54 with value: 0.904645931385028.\n",
      "[I 2025-03-26 13:44:14,668] Trial 69 finished with value: 0.9017836041956786 and parameters: {'alpha': 0.19696298555466568, 'l1_ratio': 0.7845096833736119, 'max_iter': 5115}. Best is trial 54 with value: 0.904645931385028.\n",
      "[I 2025-03-26 13:44:14,767] Trial 70 finished with value: 0.9037730562933413 and parameters: {'alpha': 0.3229059844532785, 'l1_ratio': 0.9319555590121111, 'max_iter': 4500}. Best is trial 54 with value: 0.904645931385028.\n",
      "[I 2025-03-26 13:44:14,863] Trial 71 finished with value: 0.9046382962312713 and parameters: {'alpha': 0.48456834361808276, 'l1_ratio': 0.9945922799748559, 'max_iter': 4272}. Best is trial 54 with value: 0.904645931385028.\n",
      "[I 2025-03-26 13:44:14,956] Trial 72 finished with value: 0.9031723705407135 and parameters: {'alpha': 0.46464426590427144, 'l1_ratio': 0.937265464442316, 'max_iter': 3608}. Best is trial 54 with value: 0.904645931385028.\n",
      "[I 2025-03-26 13:44:15,057] Trial 73 finished with value: 0.8833919571215771 and parameters: {'alpha': 0.9168366548985344, 'l1_ratio': 0.8234111320450145, 'max_iter': 5896}. Best is trial 54 with value: 0.904645931385028.\n",
      "[I 2025-03-26 13:44:15,140] Trial 74 finished with value: 0.8407019830846889 and parameters: {'alpha': 0.6272169595813868, 'l1_ratio': 0.32629343929363436, 'max_iter': 4685}. Best is trial 54 with value: 0.904645931385028.\n",
      "[I 2025-03-26 13:44:15,227] Trial 75 finished with value: 0.8917252805849103 and parameters: {'alpha': 0.42679499908956425, 'l1_ratio': 0.7387494314851565, 'max_iter': 3902}. Best is trial 54 with value: 0.904645931385028.\n",
      "[I 2025-03-26 13:44:15,341] Trial 76 finished with value: 0.9046451164963005 and parameters: {'alpha': 0.1661514759541199, 'l1_ratio': 0.998830882299601, 'max_iter': 4300}. Best is trial 54 with value: 0.904645931385028.\n",
      "[I 2025-03-26 13:44:15,462] Trial 77 finished with value: 0.9030374974881892 and parameters: {'alpha': 0.1735554314153639, 'l1_ratio': 0.823735216159217, 'max_iter': 2703}. Best is trial 54 with value: 0.904645931385028.\n",
      "[I 2025-03-26 13:44:15,556] Trial 78 finished with value: 0.904384733098815 and parameters: {'alpha': 0.15731828407534848, 'l1_ratio': 0.9245061324600501, 'max_iter': 8459}. Best is trial 54 with value: 0.904645931385028.\n",
      "[I 2025-03-26 13:44:15,662] Trial 79 finished with value: 0.8935854722398651 and parameters: {'alpha': 0.29855531509502603, 'l1_ratio': 0.6653508397062419, 'max_iter': 5288}. Best is trial 54 with value: 0.904645931385028.\n",
      "[I 2025-03-26 13:44:15,760] Trial 80 finished with value: 0.9046448781610077 and parameters: {'alpha': 1.1368806911989526, 'l1_ratio': 0.9986207681048194, 'max_iter': 4946}. Best is trial 54 with value: 0.904645931385028.\n",
      "[I 2025-03-26 13:44:15,865] Trial 81 finished with value: 0.9046451730712128 and parameters: {'alpha': 0.7262663505308093, 'l1_ratio': 0.999814875546818, 'max_iter': 4947}. Best is trial 54 with value: 0.904645931385028.\n",
      "[I 2025-03-26 13:44:15,959] Trial 82 finished with value: 0.8942092061774953 and parameters: {'alpha': 1.1433262783758584, 'l1_ratio': 0.9160713533012906, 'max_iter': 4958}. Best is trial 54 with value: 0.904645931385028.\n",
      "[I 2025-03-26 13:44:16,053] Trial 83 finished with value: 0.8853398934228842 and parameters: {'alpha': 0.8239444138612058, 'l1_ratio': 0.8176624564678565, 'max_iter': 4537}. Best is trial 54 with value: 0.904645931385028.\n",
      "[I 2025-03-26 13:44:16,156] Trial 84 finished with value: 0.9045323220072925 and parameters: {'alpha': 0.12039171999589277, 'l1_ratio': 0.9337750126218121, 'max_iter': 5490}. Best is trial 54 with value: 0.904645931385028.\n",
      "[I 2025-03-26 13:44:16,226] Trial 85 finished with value: 0.8612812913741006 and parameters: {'alpha': 1.050210308159526, 'l1_ratio': 0.7190281931760438, 'max_iter': 4780}. Best is trial 54 with value: 0.904645931385028.\n",
      "[I 2025-03-26 13:44:16,306] Trial 86 finished with value: 0.7643757070640452 and parameters: {'alpha': 1.467161469473892, 'l1_ratio': 0.3700537484744362, 'max_iter': 5748}. Best is trial 54 with value: 0.904645931385028.\n",
      "[I 2025-03-26 13:44:16,427] Trial 87 finished with value: 0.8829657807832711 and parameters: {'alpha': 0.22329375297640403, 'l1_ratio': 0.2634151499018451, 'max_iter': 5145}. Best is trial 54 with value: 0.904645931385028.\n",
      "[I 2025-03-26 13:44:16,527] Trial 88 finished with value: 0.889058206875785 and parameters: {'alpha': 0.7504367278605844, 'l1_ratio': 0.8296824504486121, 'max_iter': 3555}. Best is trial 54 with value: 0.904645931385028.\n",
      "[I 2025-03-26 13:44:16,630] Trial 89 finished with value: 0.904646192550211 and parameters: {'alpha': 0.9977858104160371, 'l1_ratio': 0.9994072380775121, 'max_iter': 3844}. Best is trial 89 with value: 0.904646192550211.\n",
      "[I 2025-03-26 13:44:16,727] Trial 90 finished with value: 0.8839587288379234 and parameters: {'alpha': 1.0414318521419952, 'l1_ratio': 0.84779989953557, 'max_iter': 3205}. Best is trial 89 with value: 0.904646192550211.\n",
      "[I 2025-03-26 13:44:16,824] Trial 91 finished with value: 0.8971195291974795 and parameters: {'alpha': 1.4240823724131193, 'l1_ratio': 0.9459155898782677, 'max_iter': 3880}. Best is trial 89 with value: 0.904646192550211.\n",
      "[I 2025-03-26 13:44:16,917] Trial 92 finished with value: 0.8827825519851913 and parameters: {'alpha': 2.106641192455604, 'l1_ratio': 0.9214299255826497, 'max_iter': 4727}. Best is trial 89 with value: 0.904646192550211.\n",
      "[I 2025-03-26 13:44:17,037] Trial 93 finished with value: 0.9046452917466391 and parameters: {'alpha': 0.18714401602502834, 'l1_ratio': 0.9986320233991887, 'max_iter': 4384}. Best is trial 89 with value: 0.904646192550211.\n",
      "[I 2025-03-26 13:44:17,124] Trial 94 finished with value: 0.8912089878621883 and parameters: {'alpha': 0.9010546963469706, 'l1_ratio': 0.8727347653231261, 'max_iter': 4973}. Best is trial 89 with value: 0.904646192550211.\n",
      "[I 2025-03-26 13:44:17,240] Trial 95 finished with value: 0.9046460949522834 and parameters: {'alpha': 0.5936526610405728, 'l1_ratio': 0.9984806135604725, 'max_iter': 4490}. Best is trial 89 with value: 0.904646192550211.\n",
      "[I 2025-03-26 13:44:17,347] Trial 96 finished with value: 0.9020558011536621 and parameters: {'alpha': 0.184651640985771, 'l1_ratio': 0.783096066330636, 'max_iter': 4528}. Best is trial 89 with value: 0.904646192550211.\n",
      "[I 2025-03-26 13:44:17,433] Trial 97 finished with value: 0.8349861282563469 and parameters: {'alpha': 0.5723937164610966, 'l1_ratio': 0.19887665871805799, 'max_iter': 5481}. Best is trial 89 with value: 0.904646192550211.\n",
      "[I 2025-03-26 13:44:17,544] Trial 98 finished with value: 0.9041634358850161 and parameters: {'alpha': 0.1532707625738752, 'l1_ratio': 0.8946552917996146, 'max_iter': 3849}. Best is trial 89 with value: 0.904646192550211.\n",
      "[I 2025-03-26 13:44:17,643] Trial 99 finished with value: 0.9045539375267982 and parameters: {'alpha': 0.12258101115581882, 'l1_ratio': 0.9410015228294569, 'max_iter': 5037}. Best is trial 89 with value: 0.904646192550211.\n"
     ]
    }
   ],
   "source": [
    "study.optimize(objective,n_trials=100)"
   ]
  },
  {
   "cell_type": "code",
   "execution_count": 25,
   "metadata": {},
   "outputs": [
    {
     "data": {
      "text/plain": [
       "{'alpha': 0.9977858104160371, 'l1_ratio': 0.9994072380775121, 'max_iter': 3844}"
      ]
     },
     "execution_count": 25,
     "metadata": {},
     "output_type": "execute_result"
    }
   ],
   "source": [
    "study.best_params"
   ]
  },
  {
   "cell_type": "code",
   "execution_count": 26,
   "metadata": {},
   "outputs": [
    {
     "data": {
      "text/plain": [
       "0.904646192550211"
      ]
     },
     "execution_count": 26,
     "metadata": {},
     "output_type": "execute_result"
    }
   ],
   "source": [
    "study.best_value"
   ]
  },
  {
   "cell_type": "code",
   "execution_count": 27,
   "metadata": {},
   "outputs": [],
   "source": [
    "from sklearn.ensemble import RandomForestRegressor"
   ]
  },
  {
   "cell_type": "code",
   "execution_count": 28,
   "metadata": {},
   "outputs": [],
   "source": [
    "r=RandomForestRegressor()"
   ]
  },
  {
   "cell_type": "code",
   "execution_count": 29,
   "metadata": {},
   "outputs": [
    {
     "data": {
      "text/html": [
       "<style>#sk-container-id-1 {\n",
       "  /* Definition of color scheme common for light and dark mode */\n",
       "  --sklearn-color-text: #000;\n",
       "  --sklearn-color-text-muted: #666;\n",
       "  --sklearn-color-line: gray;\n",
       "  /* Definition of color scheme for unfitted estimators */\n",
       "  --sklearn-color-unfitted-level-0: #fff5e6;\n",
       "  --sklearn-color-unfitted-level-1: #f6e4d2;\n",
       "  --sklearn-color-unfitted-level-2: #ffe0b3;\n",
       "  --sklearn-color-unfitted-level-3: chocolate;\n",
       "  /* Definition of color scheme for fitted estimators */\n",
       "  --sklearn-color-fitted-level-0: #f0f8ff;\n",
       "  --sklearn-color-fitted-level-1: #d4ebff;\n",
       "  --sklearn-color-fitted-level-2: #b3dbfd;\n",
       "  --sklearn-color-fitted-level-3: cornflowerblue;\n",
       "\n",
       "  /* Specific color for light theme */\n",
       "  --sklearn-color-text-on-default-background: var(--sg-text-color, var(--theme-code-foreground, var(--jp-content-font-color1, black)));\n",
       "  --sklearn-color-background: var(--sg-background-color, var(--theme-background, var(--jp-layout-color0, white)));\n",
       "  --sklearn-color-border-box: var(--sg-text-color, var(--theme-code-foreground, var(--jp-content-font-color1, black)));\n",
       "  --sklearn-color-icon: #696969;\n",
       "\n",
       "  @media (prefers-color-scheme: dark) {\n",
       "    /* Redefinition of color scheme for dark theme */\n",
       "    --sklearn-color-text-on-default-background: var(--sg-text-color, var(--theme-code-foreground, var(--jp-content-font-color1, white)));\n",
       "    --sklearn-color-background: var(--sg-background-color, var(--theme-background, var(--jp-layout-color0, #111)));\n",
       "    --sklearn-color-border-box: var(--sg-text-color, var(--theme-code-foreground, var(--jp-content-font-color1, white)));\n",
       "    --sklearn-color-icon: #878787;\n",
       "  }\n",
       "}\n",
       "\n",
       "#sk-container-id-1 {\n",
       "  color: var(--sklearn-color-text);\n",
       "}\n",
       "\n",
       "#sk-container-id-1 pre {\n",
       "  padding: 0;\n",
       "}\n",
       "\n",
       "#sk-container-id-1 input.sk-hidden--visually {\n",
       "  border: 0;\n",
       "  clip: rect(1px 1px 1px 1px);\n",
       "  clip: rect(1px, 1px, 1px, 1px);\n",
       "  height: 1px;\n",
       "  margin: -1px;\n",
       "  overflow: hidden;\n",
       "  padding: 0;\n",
       "  position: absolute;\n",
       "  width: 1px;\n",
       "}\n",
       "\n",
       "#sk-container-id-1 div.sk-dashed-wrapped {\n",
       "  border: 1px dashed var(--sklearn-color-line);\n",
       "  margin: 0 0.4em 0.5em 0.4em;\n",
       "  box-sizing: border-box;\n",
       "  padding-bottom: 0.4em;\n",
       "  background-color: var(--sklearn-color-background);\n",
       "}\n",
       "\n",
       "#sk-container-id-1 div.sk-container {\n",
       "  /* jupyter's `normalize.less` sets `[hidden] { display: none; }`\n",
       "     but bootstrap.min.css set `[hidden] { display: none !important; }`\n",
       "     so we also need the `!important` here to be able to override the\n",
       "     default hidden behavior on the sphinx rendered scikit-learn.org.\n",
       "     See: https://github.com/scikit-learn/scikit-learn/issues/21755 */\n",
       "  display: inline-block !important;\n",
       "  position: relative;\n",
       "}\n",
       "\n",
       "#sk-container-id-1 div.sk-text-repr-fallback {\n",
       "  display: none;\n",
       "}\n",
       "\n",
       "div.sk-parallel-item,\n",
       "div.sk-serial,\n",
       "div.sk-item {\n",
       "  /* draw centered vertical line to link estimators */\n",
       "  background-image: linear-gradient(var(--sklearn-color-text-on-default-background), var(--sklearn-color-text-on-default-background));\n",
       "  background-size: 2px 100%;\n",
       "  background-repeat: no-repeat;\n",
       "  background-position: center center;\n",
       "}\n",
       "\n",
       "/* Parallel-specific style estimator block */\n",
       "\n",
       "#sk-container-id-1 div.sk-parallel-item::after {\n",
       "  content: \"\";\n",
       "  width: 100%;\n",
       "  border-bottom: 2px solid var(--sklearn-color-text-on-default-background);\n",
       "  flex-grow: 1;\n",
       "}\n",
       "\n",
       "#sk-container-id-1 div.sk-parallel {\n",
       "  display: flex;\n",
       "  align-items: stretch;\n",
       "  justify-content: center;\n",
       "  background-color: var(--sklearn-color-background);\n",
       "  position: relative;\n",
       "}\n",
       "\n",
       "#sk-container-id-1 div.sk-parallel-item {\n",
       "  display: flex;\n",
       "  flex-direction: column;\n",
       "}\n",
       "\n",
       "#sk-container-id-1 div.sk-parallel-item:first-child::after {\n",
       "  align-self: flex-end;\n",
       "  width: 50%;\n",
       "}\n",
       "\n",
       "#sk-container-id-1 div.sk-parallel-item:last-child::after {\n",
       "  align-self: flex-start;\n",
       "  width: 50%;\n",
       "}\n",
       "\n",
       "#sk-container-id-1 div.sk-parallel-item:only-child::after {\n",
       "  width: 0;\n",
       "}\n",
       "\n",
       "/* Serial-specific style estimator block */\n",
       "\n",
       "#sk-container-id-1 div.sk-serial {\n",
       "  display: flex;\n",
       "  flex-direction: column;\n",
       "  align-items: center;\n",
       "  background-color: var(--sklearn-color-background);\n",
       "  padding-right: 1em;\n",
       "  padding-left: 1em;\n",
       "}\n",
       "\n",
       "\n",
       "/* Toggleable style: style used for estimator/Pipeline/ColumnTransformer box that is\n",
       "clickable and can be expanded/collapsed.\n",
       "- Pipeline and ColumnTransformer use this feature and define the default style\n",
       "- Estimators will overwrite some part of the style using the `sk-estimator` class\n",
       "*/\n",
       "\n",
       "/* Pipeline and ColumnTransformer style (default) */\n",
       "\n",
       "#sk-container-id-1 div.sk-toggleable {\n",
       "  /* Default theme specific background. It is overwritten whether we have a\n",
       "  specific estimator or a Pipeline/ColumnTransformer */\n",
       "  background-color: var(--sklearn-color-background);\n",
       "}\n",
       "\n",
       "/* Toggleable label */\n",
       "#sk-container-id-1 label.sk-toggleable__label {\n",
       "  cursor: pointer;\n",
       "  display: flex;\n",
       "  width: 100%;\n",
       "  margin-bottom: 0;\n",
       "  padding: 0.5em;\n",
       "  box-sizing: border-box;\n",
       "  text-align: center;\n",
       "  align-items: start;\n",
       "  justify-content: space-between;\n",
       "  gap: 0.5em;\n",
       "}\n",
       "\n",
       "#sk-container-id-1 label.sk-toggleable__label .caption {\n",
       "  font-size: 0.6rem;\n",
       "  font-weight: lighter;\n",
       "  color: var(--sklearn-color-text-muted);\n",
       "}\n",
       "\n",
       "#sk-container-id-1 label.sk-toggleable__label-arrow:before {\n",
       "  /* Arrow on the left of the label */\n",
       "  content: \"▸\";\n",
       "  float: left;\n",
       "  margin-right: 0.25em;\n",
       "  color: var(--sklearn-color-icon);\n",
       "}\n",
       "\n",
       "#sk-container-id-1 label.sk-toggleable__label-arrow:hover:before {\n",
       "  color: var(--sklearn-color-text);\n",
       "}\n",
       "\n",
       "/* Toggleable content - dropdown */\n",
       "\n",
       "#sk-container-id-1 div.sk-toggleable__content {\n",
       "  max-height: 0;\n",
       "  max-width: 0;\n",
       "  overflow: hidden;\n",
       "  text-align: left;\n",
       "  /* unfitted */\n",
       "  background-color: var(--sklearn-color-unfitted-level-0);\n",
       "}\n",
       "\n",
       "#sk-container-id-1 div.sk-toggleable__content.fitted {\n",
       "  /* fitted */\n",
       "  background-color: var(--sklearn-color-fitted-level-0);\n",
       "}\n",
       "\n",
       "#sk-container-id-1 div.sk-toggleable__content pre {\n",
       "  margin: 0.2em;\n",
       "  border-radius: 0.25em;\n",
       "  color: var(--sklearn-color-text);\n",
       "  /* unfitted */\n",
       "  background-color: var(--sklearn-color-unfitted-level-0);\n",
       "}\n",
       "\n",
       "#sk-container-id-1 div.sk-toggleable__content.fitted pre {\n",
       "  /* unfitted */\n",
       "  background-color: var(--sklearn-color-fitted-level-0);\n",
       "}\n",
       "\n",
       "#sk-container-id-1 input.sk-toggleable__control:checked~div.sk-toggleable__content {\n",
       "  /* Expand drop-down */\n",
       "  max-height: 200px;\n",
       "  max-width: 100%;\n",
       "  overflow: auto;\n",
       "}\n",
       "\n",
       "#sk-container-id-1 input.sk-toggleable__control:checked~label.sk-toggleable__label-arrow:before {\n",
       "  content: \"▾\";\n",
       "}\n",
       "\n",
       "/* Pipeline/ColumnTransformer-specific style */\n",
       "\n",
       "#sk-container-id-1 div.sk-label input.sk-toggleable__control:checked~label.sk-toggleable__label {\n",
       "  color: var(--sklearn-color-text);\n",
       "  background-color: var(--sklearn-color-unfitted-level-2);\n",
       "}\n",
       "\n",
       "#sk-container-id-1 div.sk-label.fitted input.sk-toggleable__control:checked~label.sk-toggleable__label {\n",
       "  background-color: var(--sklearn-color-fitted-level-2);\n",
       "}\n",
       "\n",
       "/* Estimator-specific style */\n",
       "\n",
       "/* Colorize estimator box */\n",
       "#sk-container-id-1 div.sk-estimator input.sk-toggleable__control:checked~label.sk-toggleable__label {\n",
       "  /* unfitted */\n",
       "  background-color: var(--sklearn-color-unfitted-level-2);\n",
       "}\n",
       "\n",
       "#sk-container-id-1 div.sk-estimator.fitted input.sk-toggleable__control:checked~label.sk-toggleable__label {\n",
       "  /* fitted */\n",
       "  background-color: var(--sklearn-color-fitted-level-2);\n",
       "}\n",
       "\n",
       "#sk-container-id-1 div.sk-label label.sk-toggleable__label,\n",
       "#sk-container-id-1 div.sk-label label {\n",
       "  /* The background is the default theme color */\n",
       "  color: var(--sklearn-color-text-on-default-background);\n",
       "}\n",
       "\n",
       "/* On hover, darken the color of the background */\n",
       "#sk-container-id-1 div.sk-label:hover label.sk-toggleable__label {\n",
       "  color: var(--sklearn-color-text);\n",
       "  background-color: var(--sklearn-color-unfitted-level-2);\n",
       "}\n",
       "\n",
       "/* Label box, darken color on hover, fitted */\n",
       "#sk-container-id-1 div.sk-label.fitted:hover label.sk-toggleable__label.fitted {\n",
       "  color: var(--sklearn-color-text);\n",
       "  background-color: var(--sklearn-color-fitted-level-2);\n",
       "}\n",
       "\n",
       "/* Estimator label */\n",
       "\n",
       "#sk-container-id-1 div.sk-label label {\n",
       "  font-family: monospace;\n",
       "  font-weight: bold;\n",
       "  display: inline-block;\n",
       "  line-height: 1.2em;\n",
       "}\n",
       "\n",
       "#sk-container-id-1 div.sk-label-container {\n",
       "  text-align: center;\n",
       "}\n",
       "\n",
       "/* Estimator-specific */\n",
       "#sk-container-id-1 div.sk-estimator {\n",
       "  font-family: monospace;\n",
       "  border: 1px dotted var(--sklearn-color-border-box);\n",
       "  border-radius: 0.25em;\n",
       "  box-sizing: border-box;\n",
       "  margin-bottom: 0.5em;\n",
       "  /* unfitted */\n",
       "  background-color: var(--sklearn-color-unfitted-level-0);\n",
       "}\n",
       "\n",
       "#sk-container-id-1 div.sk-estimator.fitted {\n",
       "  /* fitted */\n",
       "  background-color: var(--sklearn-color-fitted-level-0);\n",
       "}\n",
       "\n",
       "/* on hover */\n",
       "#sk-container-id-1 div.sk-estimator:hover {\n",
       "  /* unfitted */\n",
       "  background-color: var(--sklearn-color-unfitted-level-2);\n",
       "}\n",
       "\n",
       "#sk-container-id-1 div.sk-estimator.fitted:hover {\n",
       "  /* fitted */\n",
       "  background-color: var(--sklearn-color-fitted-level-2);\n",
       "}\n",
       "\n",
       "/* Specification for estimator info (e.g. \"i\" and \"?\") */\n",
       "\n",
       "/* Common style for \"i\" and \"?\" */\n",
       "\n",
       ".sk-estimator-doc-link,\n",
       "a:link.sk-estimator-doc-link,\n",
       "a:visited.sk-estimator-doc-link {\n",
       "  float: right;\n",
       "  font-size: smaller;\n",
       "  line-height: 1em;\n",
       "  font-family: monospace;\n",
       "  background-color: var(--sklearn-color-background);\n",
       "  border-radius: 1em;\n",
       "  height: 1em;\n",
       "  width: 1em;\n",
       "  text-decoration: none !important;\n",
       "  margin-left: 0.5em;\n",
       "  text-align: center;\n",
       "  /* unfitted */\n",
       "  border: var(--sklearn-color-unfitted-level-1) 1pt solid;\n",
       "  color: var(--sklearn-color-unfitted-level-1);\n",
       "}\n",
       "\n",
       ".sk-estimator-doc-link.fitted,\n",
       "a:link.sk-estimator-doc-link.fitted,\n",
       "a:visited.sk-estimator-doc-link.fitted {\n",
       "  /* fitted */\n",
       "  border: var(--sklearn-color-fitted-level-1) 1pt solid;\n",
       "  color: var(--sklearn-color-fitted-level-1);\n",
       "}\n",
       "\n",
       "/* On hover */\n",
       "div.sk-estimator:hover .sk-estimator-doc-link:hover,\n",
       ".sk-estimator-doc-link:hover,\n",
       "div.sk-label-container:hover .sk-estimator-doc-link:hover,\n",
       ".sk-estimator-doc-link:hover {\n",
       "  /* unfitted */\n",
       "  background-color: var(--sklearn-color-unfitted-level-3);\n",
       "  color: var(--sklearn-color-background);\n",
       "  text-decoration: none;\n",
       "}\n",
       "\n",
       "div.sk-estimator.fitted:hover .sk-estimator-doc-link.fitted:hover,\n",
       ".sk-estimator-doc-link.fitted:hover,\n",
       "div.sk-label-container:hover .sk-estimator-doc-link.fitted:hover,\n",
       ".sk-estimator-doc-link.fitted:hover {\n",
       "  /* fitted */\n",
       "  background-color: var(--sklearn-color-fitted-level-3);\n",
       "  color: var(--sklearn-color-background);\n",
       "  text-decoration: none;\n",
       "}\n",
       "\n",
       "/* Span, style for the box shown on hovering the info icon */\n",
       ".sk-estimator-doc-link span {\n",
       "  display: none;\n",
       "  z-index: 9999;\n",
       "  position: relative;\n",
       "  font-weight: normal;\n",
       "  right: .2ex;\n",
       "  padding: .5ex;\n",
       "  margin: .5ex;\n",
       "  width: min-content;\n",
       "  min-width: 20ex;\n",
       "  max-width: 50ex;\n",
       "  color: var(--sklearn-color-text);\n",
       "  box-shadow: 2pt 2pt 4pt #999;\n",
       "  /* unfitted */\n",
       "  background: var(--sklearn-color-unfitted-level-0);\n",
       "  border: .5pt solid var(--sklearn-color-unfitted-level-3);\n",
       "}\n",
       "\n",
       ".sk-estimator-doc-link.fitted span {\n",
       "  /* fitted */\n",
       "  background: var(--sklearn-color-fitted-level-0);\n",
       "  border: var(--sklearn-color-fitted-level-3);\n",
       "}\n",
       "\n",
       ".sk-estimator-doc-link:hover span {\n",
       "  display: block;\n",
       "}\n",
       "\n",
       "/* \"?\"-specific style due to the `<a>` HTML tag */\n",
       "\n",
       "#sk-container-id-1 a.estimator_doc_link {\n",
       "  float: right;\n",
       "  font-size: 1rem;\n",
       "  line-height: 1em;\n",
       "  font-family: monospace;\n",
       "  background-color: var(--sklearn-color-background);\n",
       "  border-radius: 1rem;\n",
       "  height: 1rem;\n",
       "  width: 1rem;\n",
       "  text-decoration: none;\n",
       "  /* unfitted */\n",
       "  color: var(--sklearn-color-unfitted-level-1);\n",
       "  border: var(--sklearn-color-unfitted-level-1) 1pt solid;\n",
       "}\n",
       "\n",
       "#sk-container-id-1 a.estimator_doc_link.fitted {\n",
       "  /* fitted */\n",
       "  border: var(--sklearn-color-fitted-level-1) 1pt solid;\n",
       "  color: var(--sklearn-color-fitted-level-1);\n",
       "}\n",
       "\n",
       "/* On hover */\n",
       "#sk-container-id-1 a.estimator_doc_link:hover {\n",
       "  /* unfitted */\n",
       "  background-color: var(--sklearn-color-unfitted-level-3);\n",
       "  color: var(--sklearn-color-background);\n",
       "  text-decoration: none;\n",
       "}\n",
       "\n",
       "#sk-container-id-1 a.estimator_doc_link.fitted:hover {\n",
       "  /* fitted */\n",
       "  background-color: var(--sklearn-color-fitted-level-3);\n",
       "}\n",
       "</style><div id=\"sk-container-id-1\" class=\"sk-top-container\"><div class=\"sk-text-repr-fallback\"><pre>RandomForestRegressor()</pre><b>In a Jupyter environment, please rerun this cell to show the HTML representation or trust the notebook. <br />On GitHub, the HTML representation is unable to render, please try loading this page with nbviewer.org.</b></div><div class=\"sk-container\" hidden><div class=\"sk-item\"><div class=\"sk-estimator fitted sk-toggleable\"><input class=\"sk-toggleable__control sk-hidden--visually\" id=\"sk-estimator-id-1\" type=\"checkbox\" checked><label for=\"sk-estimator-id-1\" class=\"sk-toggleable__label fitted sk-toggleable__label-arrow\"><div><div>RandomForestRegressor</div></div><div><a class=\"sk-estimator-doc-link fitted\" rel=\"noreferrer\" target=\"_blank\" href=\"https://scikit-learn.org/1.6/modules/generated/sklearn.ensemble.RandomForestRegressor.html\">?<span>Documentation for RandomForestRegressor</span></a><span class=\"sk-estimator-doc-link fitted\">i<span>Fitted</span></span></div></label><div class=\"sk-toggleable__content fitted\"><pre>RandomForestRegressor()</pre></div> </div></div></div></div>"
      ],
      "text/plain": [
       "RandomForestRegressor()"
      ]
     },
     "execution_count": 29,
     "metadata": {},
     "output_type": "execute_result"
    }
   ],
   "source": [
    "r.fit(x_train,y_train)"
   ]
  },
  {
   "cell_type": "code",
   "execution_count": 30,
   "metadata": {},
   "outputs": [],
   "source": [
    "p=r.predict(x_test)"
   ]
  },
  {
   "cell_type": "code",
   "execution_count": 31,
   "metadata": {},
   "outputs": [
    {
     "data": {
      "text/plain": [
       "0.991368296021624"
      ]
     },
     "execution_count": 31,
     "metadata": {},
     "output_type": "execute_result"
    }
   ],
   "source": [
    "r2_score(y_test,p)"
   ]
  },
  {
   "cell_type": "code",
   "execution_count": null,
   "metadata": {},
   "outputs": [],
   "source": []
  },
  {
   "cell_type": "code",
   "execution_count": null,
   "metadata": {},
   "outputs": [],
   "source": []
  },
  {
   "cell_type": "code",
   "execution_count": null,
   "metadata": {},
   "outputs": [],
   "source": []
  },
  {
   "cell_type": "code",
   "execution_count": null,
   "metadata": {},
   "outputs": [],
   "source": []
  },
  {
   "cell_type": "code",
   "execution_count": null,
   "metadata": {},
   "outputs": [],
   "source": []
  }
 ],
 "metadata": {
  "kernelspec": {
   "display_name": "Python 3",
   "language": "python",
   "name": "python3"
  },
  "language_info": {
   "codemirror_mode": {
    "name": "ipython",
    "version": 3
   },
   "file_extension": ".py",
   "mimetype": "text/x-python",
   "name": "python",
   "nbconvert_exporter": "python",
   "pygments_lexer": "ipython3",
   "version": "3.11.11"
  }
 },
 "nbformat": 4,
 "nbformat_minor": 2
}
